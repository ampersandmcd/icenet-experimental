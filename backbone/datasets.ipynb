{
 "cells": [
  {
   "cell_type": "code",
   "execution_count": 1,
   "metadata": {},
   "outputs": [
    {
     "name": "stdout",
     "output_type": "stream",
     "text": [
      "Running in /data/hpcdata/users/anddon76/icenet/icenet-experimental\n"
     ]
    }
   ],
   "source": [
    "import os\n",
    "if \"datasets.ipynb\" in os.listdir():\n",
    "    os.chdir(\"../\")\n",
    "print(\"Running in {}\".format(os.getcwd()))"
   ]
  },
  {
   "cell_type": "markdown",
   "metadata": {},
   "source": [
    "# datasets.ipynb\n",
    "\n",
    "In this notebook, we create datasets for experimentation with different backbone models."
   ]
  },
  {
   "cell_type": "markdown",
   "metadata": {},
   "source": [
    "## 1. Single-Year Dataset"
   ]
  },
  {
   "cell_type": "code",
   "execution_count": 6,
   "metadata": {},
   "outputs": [],
   "source": [
    "import pandas as pd\n",
    "processing_dates = dict(\n",
    "    train=[pd.to_datetime(el) for el in pd.date_range(\"2020-01-01\", \"2020-10-31\")],\n",
    "    val=[pd.to_datetime(el) for el in pd.date_range(\"2020-11-01\", \"2020-11-30\")],\n",
    "    test=[pd.to_datetime(el) for el in pd.date_range(\"2020-12-01\", \"2020-12-31\")],\n",
    ")\n",
    "processed_name = \"single_year\""
   ]
  },
  {
   "cell_type": "code",
   "execution_count": 7,
   "metadata": {},
   "outputs": [],
   "source": [
    "from icenet.data.processors.era5 import IceNetERA5PreProcessor\n",
    "from icenet.data.processors.meta import IceNetMetaPreProcessor\n",
    "from icenet.data.processors.osi import IceNetOSIPreProcessor\n",
    "\n",
    "pp = IceNetERA5PreProcessor(\n",
    "    [\"uas\", \"vas\"],\n",
    "    [\"tas\", \"zg500\", \"zg250\"],\n",
    "    processed_name,\n",
    "    processing_dates[\"train\"],\n",
    "    processing_dates[\"val\"],\n",
    "    processing_dates[\"test\"],\n",
    "    linear_trends=tuple(),\n",
    "    north=False,\n",
    "    south=True\n",
    ")\n",
    "osi = IceNetOSIPreProcessor(\n",
    "    [\"siconca\"],\n",
    "    [],\n",
    "    processed_name,\n",
    "    processing_dates[\"train\"],\n",
    "    processing_dates[\"val\"],\n",
    "    processing_dates[\"test\"],\n",
    "    linear_trends=tuple(),\n",
    "    north=False,\n",
    "    south=True\n",
    ")\n",
    "meta = IceNetMetaPreProcessor(\n",
    "    processed_name,\n",
    "    north=False,\n",
    "    south=True\n",
    ")"
   ]
  },
  {
   "cell_type": "code",
   "execution_count": 8,
   "metadata": {},
   "outputs": [
    {
     "name": "stderr",
     "output_type": "stream",
     "text": [
      "/users/anddon76/micromamba/envs/icenet-3.11/lib/python3.11/site-packages/xarray/backends/plugins.py:80: RuntimeWarning: Engine 'cfgrib' loading failed:\n",
      "Cannot find the ecCodes library\n",
      "  warnings.warn(f\"Engine {name!r} loading failed:\\n{ex}\", RuntimeWarning)\n",
      "WARNING:root:We don't have a full climatology (1,2,3,4,5,6,7,8,9,10) compared with data (1,2,3,4,5,6,7,8,9,10,11,12)\n",
      "WARNING:root:We don't have a full climatology (1,2,3,4,5,6,7,8,9,10) compared with data (1,2,3,4,5,6,7,8,9,10,11,12)\n",
      "WARNING:root:We don't have a full climatology (1,2,3,4,5,6,7,8,9,10) compared with data (1,2,3,4,5,6,7,8,9,10,11,12)\n"
     ]
    }
   ],
   "source": [
    "pp.init_source_data(\n",
    "    lag_days=1,\n",
    ")\n",
    "pp.process()\n",
    "osi.init_source_data(\n",
    "    lag_days=1,\n",
    ")\n",
    "osi.process()\n",
    "meta.process()"
   ]
  },
  {
   "cell_type": "markdown",
   "metadata": {},
   "source": [
    "## 2. Single Day Dataset for Overfitting"
   ]
  },
  {
   "cell_type": "code",
   "execution_count": 2,
   "metadata": {},
   "outputs": [],
   "source": [
    "import pandas as pd\n",
    "processing_dates = dict(\n",
    "    train=[pd.to_datetime(el) for el in pd.date_range(\"2020-01-01\", \"2020-01-01\")],\n",
    "    val=[pd.to_datetime(el) for el in pd.date_range(\"2020-01-01\", \"2020-01-01\")],\n",
    "    test=[pd.to_datetime(el) for el in pd.date_range(\"2020-01-01\", \"2020-01-01\")],\n",
    ")\n",
    "processed_name = \"single_day\""
   ]
  },
  {
   "cell_type": "code",
   "execution_count": 3,
   "metadata": {},
   "outputs": [
    {
     "name": "stderr",
     "output_type": "stream",
     "text": [
      "2024-05-02 11:28:32.738113: I tensorflow/core/util/port.cc:113] oneDNN custom operations are on. You may see slightly different numerical results due to floating-point round-off errors from different computation orders. To turn them off, set the environment variable `TF_ENABLE_ONEDNN_OPTS=0`.\n",
      "2024-05-02 11:28:32.787764: E external/local_xla/xla/stream_executor/cuda/cuda_dnn.cc:9261] Unable to register cuDNN factory: Attempting to register factory for plugin cuDNN when one has already been registered\n",
      "2024-05-02 11:28:32.787807: E external/local_xla/xla/stream_executor/cuda/cuda_fft.cc:607] Unable to register cuFFT factory: Attempting to register factory for plugin cuFFT when one has already been registered\n",
      "2024-05-02 11:28:32.789130: E external/local_xla/xla/stream_executor/cuda/cuda_blas.cc:1515] Unable to register cuBLAS factory: Attempting to register factory for plugin cuBLAS when one has already been registered\n",
      "2024-05-02 11:28:32.799018: I tensorflow/core/platform/cpu_feature_guard.cc:182] This TensorFlow binary is optimized to use available CPU instructions in performance-critical operations.\n",
      "To enable the following instructions: AVX2 AVX512F AVX512_VNNI FMA, in other operations, rebuild TensorFlow with the appropriate compiler flags.\n",
      "2024-05-02 11:28:36.787978: W tensorflow/compiler/tf2tensorrt/utils/py_utils.cc:38] TF-TRT Warning: Could not find TensorRT\n",
      "/users/anddon76/micromamba/envs/icenet-3.11/lib/python3.11/site-packages/xarray/backends/plugins.py:71: RuntimeWarning: Engine 'cfgrib' loading failed:\n",
      "Cannot find the ecCodes library\n",
      "  warnings.warn(f\"Engine {name!r} loading failed:\\n{ex}\", RuntimeWarning)\n",
      "WARNING:root:We don't have a full climatology (1) compared with data (1,2,3,4,5,6,7,8,9,10,11,12)\n",
      "WARNING:root:We don't have a full climatology (1) compared with data (1,2,3,4,5,6,7,8,9,10,11,12)\n",
      "WARNING:root:We don't have a full climatology (1) compared with data (1,2,3,4,5,6,7,8,9,10,11,12)\n"
     ]
    }
   ],
   "source": [
    "from icenet.data.processors.era5 import IceNetERA5PreProcessor\n",
    "from icenet.data.processors.meta import IceNetMetaPreProcessor\n",
    "from icenet.data.processors.osi import IceNetOSIPreProcessor\n",
    "\n",
    "pp = IceNetERA5PreProcessor(\n",
    "    [\"uas\", \"vas\"],\n",
    "    [\"tas\", \"zg500\", \"zg250\"],\n",
    "    processed_name,\n",
    "    processing_dates[\"train\"],\n",
    "    processing_dates[\"val\"],\n",
    "    processing_dates[\"test\"],\n",
    "    linear_trends=tuple(),\n",
    "    north=False,\n",
    "    south=True\n",
    ")\n",
    "osi = IceNetOSIPreProcessor(\n",
    "    [\"siconca\"],\n",
    "    [],\n",
    "    processed_name,\n",
    "    processing_dates[\"train\"],\n",
    "    processing_dates[\"val\"],\n",
    "    processing_dates[\"test\"],\n",
    "    linear_trends=tuple(),\n",
    "    north=False,\n",
    "    south=True\n",
    ")\n",
    "meta = IceNetMetaPreProcessor(\n",
    "    processed_name,\n",
    "    north=False,\n",
    "    south=True\n",
    ")\n",
    "pp.init_source_data(\n",
    "    lag_days=1,\n",
    ")\n",
    "pp.process()\n",
    "osi.init_source_data(\n",
    "    lag_days=1,\n",
    ")\n",
    "osi.process()\n",
    "meta.process()"
   ]
  },
  {
   "cell_type": "code",
   "execution_count": 4,
   "metadata": {},
   "outputs": [
    {
     "name": "stderr",
     "output_type": "stream",
     "text": [
      "INFO:distributed.http.proxy:To route to workers diagnostics web server please install jupyter-server-proxy: python -m pip install jupyter-server-proxy\n",
      "/users/anddon76/micromamba/envs/icenet-3.11/lib/python3.11/site-packages/distributed/node.py:182: UserWarning: Port 8888 is already in use.\n",
      "Perhaps you already have a cluster running?\n",
      "Hosting the HTTP server on port 39868 instead\n",
      "  warnings.warn(\n",
      "INFO:distributed.scheduler:State start\n",
      "INFO:distributed.diskutils:Found stale lock file and directory '/tmp/dask-scratch-space/scheduler-wxazdi46', purging\n",
      "INFO:distributed.diskutils:Found stale lock file and directory '/tmp/dask-scratch-space/scheduler-tez0jxb9', purging\n",
      "INFO:distributed.diskutils:Found stale lock file and directory '/tmp/dask-scratch-space/scheduler-q_ki80o0', purging\n",
      "INFO:distributed.scheduler:  Scheduler at:     tcp://127.0.0.1:36126\n",
      "INFO:distributed.scheduler:  dashboard at:  http://127.0.0.1:39868/status\n",
      "INFO:distributed.scheduler:Registering Worker plugin shuffle\n",
      "INFO:distributed.nanny:        Start Nanny at: 'tcp://127.0.0.1:39239'\n",
      "INFO:distributed.scheduler:Register worker <WorkerState 'tcp://127.0.0.1:35292', name: 0, status: init, memory: 0, processing: 0>\n",
      "INFO:distributed.scheduler:Starting worker compute stream, tcp://127.0.0.1:35292\n",
      "INFO:distributed.core:Starting established connection to tcp://127.0.0.1:57952\n",
      "INFO:distributed.scheduler:Receive client connection: Client-ceffeae5-086e-11ef-90c8-c4cbe1af5a66\n",
      "INFO:distributed.core:Starting established connection to tcp://127.0.0.1:57956\n",
      "2024-05-02 11:29:09.376443: I tensorflow/core/util/port.cc:113] oneDNN custom operations are on. You may see slightly different numerical results due to floating-point round-off errors from different computation orders. To turn them off, set the environment variable `TF_ENABLE_ONEDNN_OPTS=0`.\n",
      "2024-05-02 11:29:09.423087: E external/local_xla/xla/stream_executor/cuda/cuda_dnn.cc:9261] Unable to register cuDNN factory: Attempting to register factory for plugin cuDNN when one has already been registered\n",
      "2024-05-02 11:29:09.423135: E external/local_xla/xla/stream_executor/cuda/cuda_fft.cc:607] Unable to register cuFFT factory: Attempting to register factory for plugin cuFFT when one has already been registered\n",
      "2024-05-02 11:29:09.424372: E external/local_xla/xla/stream_executor/cuda/cuda_blas.cc:1515] Unable to register cuBLAS factory: Attempting to register factory for plugin cuBLAS when one has already been registered\n",
      "2024-05-02 11:29:09.432535: I tensorflow/core/platform/cpu_feature_guard.cc:182] This TensorFlow binary is optimized to use available CPU instructions in performance-critical operations.\n",
      "To enable the following instructions: AVX2 AVX512F AVX512_VNNI FMA, in other operations, rebuild TensorFlow with the appropriate compiler flags.\n",
      "2024-05-02 11:29:11.169842: W tensorflow/compiler/tf2tensorrt/utils/py_utils.cc:38] TF-TRT Warning: Could not find TensorRT\n",
      "INFO:distributed.scheduler:Receive client connection: Client-worker-d2cbdb0f-086e-11ef-969a-c4cbe1af5a66\n",
      "INFO:distributed.core:Starting established connection to tcp://127.0.0.1:57984\n",
      "/users/anddon76/micromamba/envs/icenet-3.11/lib/python3.11/site-packages/xarray/backends/plugins.py:71: RuntimeWarning: Engine 'cfgrib' loading failed:\n",
      "Cannot find the ecCodes library\n",
      "  warnings.warn(f\"Engine {name!r} loading failed:\\n{ex}\", RuntimeWarning)\n",
      "INFO:distributed.scheduler:Remove client Client-ceffeae5-086e-11ef-90c8-c4cbe1af5a66\n",
      "INFO:distributed.core:Received 'close-stream' from tcp://127.0.0.1:57956; closing.\n",
      "INFO:distributed.scheduler:Remove client Client-ceffeae5-086e-11ef-90c8-c4cbe1af5a66\n",
      "INFO:distributed.scheduler:Close client connection: Client-ceffeae5-086e-11ef-90c8-c4cbe1af5a66\n",
      "INFO:distributed.nanny:Closing Nanny at 'tcp://127.0.0.1:39239'. Reason: nanny-close\n",
      "INFO:distributed.nanny:Nanny asking worker to close. Reason: nanny-close\n",
      "INFO:distributed.scheduler:Remove client Client-worker-d2cbdb0f-086e-11ef-969a-c4cbe1af5a66\n",
      "INFO:distributed.core:Received 'close-stream' from tcp://127.0.0.1:57984; closing.\n",
      "INFO:distributed.scheduler:Remove client Client-worker-d2cbdb0f-086e-11ef-969a-c4cbe1af5a66\n",
      "INFO:distributed.core:Received 'close-stream' from tcp://127.0.0.1:57952; closing.\n",
      "INFO:distributed.scheduler:Close client connection: Client-worker-d2cbdb0f-086e-11ef-969a-c4cbe1af5a66\n",
      "INFO:distributed.scheduler:Remove worker <WorkerState 'tcp://127.0.0.1:35292', name: 0, status: closing, memory: 0, processing: 0> (stimulus_id='handle-worker-cleanup-1714645759.1966484')\n",
      "INFO:distributed.scheduler:Lost all workers\n",
      "INFO:distributed.scheduler:Scheduler closing due to unknown reason...\n",
      "INFO:distributed.scheduler:Scheduler closing all comms\n"
     ]
    }
   ],
   "source": [
    "from icenet.data.loaders import IceNetDataLoaderFactory\n",
    "\n",
    "implementation = \"dask\"\n",
    "loader_config = \"loader.single_day.json\"\n",
    "dataset_name = \"single_day\"\n",
    "lag = 1\n",
    "\n",
    "dl = IceNetDataLoaderFactory().create_data_loader(\n",
    "    implementation,\n",
    "    loader_config,\n",
    "    dataset_name,\n",
    "    lag,\n",
    "    n_forecast_days=1,\n",
    "    north=False,\n",
    "    south=True,\n",
    "    output_batch_size=1,\n",
    "    generate_workers=1\n",
    ")\n",
    "dl.generate()"
   ]
  },
  {
   "cell_type": "code",
   "execution_count": 5,
   "metadata": {},
   "outputs": [
    {
     "data": {
      "text/plain": [
       "((432, 432, 9), (432, 432, 1, 1), (432, 432, 1, 1))"
      ]
     },
     "execution_count": 5,
     "metadata": {},
     "output_type": "execute_result"
    }
   ],
   "source": [
    "x, y, sw = dl.generate_sample(pd.Timestamp(\"2020-12-01\"))\n",
    "x.shape, y.shape, sw.shape"
   ]
  },
  {
   "cell_type": "code",
   "execution_count": 6,
   "metadata": {},
   "outputs": [
    {
     "data": {
      "text/plain": [
       "(432, 432, 9)"
      ]
     },
     "execution_count": 6,
     "metadata": {},
     "output_type": "execute_result"
    }
   ],
   "source": [
    "x.shape"
   ]
  },
  {
   "cell_type": "code",
   "execution_count": 9,
   "metadata": {},
   "outputs": [
    {
     "name": "stdout",
     "output_type": "stream",
     "text": [
      "47.519836\n"
     ]
    },
    {
     "data": {
      "image/png": "[encoded data removed]",
      "text/plain": [
       "<Figure size 640x480 with 1 Axes>"
      ]
     },
     "metadata": {},
     "output_type": "display_data"
    }
   ],
   "source": [
    "import numpy as np\n",
    "import matplotlib.pyplot as plt\n",
    "diff = x[:, :, 2] - y.squeeze()\n",
    "print(np.sum(diff**2))\n",
    "plt.imshow(diff)\n",
    "plt.show()"
   ]
  },
  {
   "cell_type": "code",
   "execution_count": 17,
   "metadata": {},
   "outputs": [
    {
     "data": {
      "text/html": [
       "<div><svg style=\"position: absolute; width: 0; height: 0; overflow: hidden\">\n",
       "<defs>\n",
       "<symbol id=\"icon-database\" viewBox=\"0 0 32 32\">\n",
       "<path d=\"M16 0c-8.837 0-16 2.239-16 5v4c0 2.761 7.163 5 16 5s16-2.239 16-5v-4c0-2.761-7.163-5-16-5z\"></path>\n",
       "<path d=\"M16 17c-8.837 0-16-2.239-16-5v6c0 2.761 7.163 5 16 5s16-2.239 16-5v-6c0 2.761-7.163 5-16 5z\"></path>\n",
       "<path d=\"M16 26c-8.837 0-16-2.239-16-5v6c0 2.761 7.163 5 16 5s16-2.239 16-5v-6c0 2.761-7.163 5-16 5z\"></path>\n",
       "</symbol>\n",
       "<symbol id=\"icon-file-text2\" viewBox=\"0 0 32 32\">\n",
       "<path d=\"M28.681 7.159c-0.694-0.947-1.662-2.053-2.724-3.116s-2.169-2.030-3.116-2.724c-1.612-1.182-2.393-1.319-2.841-1.319h-15.5c-1.378 0-2.5 1.121-2.5 2.5v27c0 1.378 1.122 2.5 2.5 2.5h23c1.378 0 2.5-1.122 2.5-2.5v-19.5c0-0.448-0.137-1.23-1.319-2.841zM24.543 5.457c0.959 0.959 1.712 1.825 2.268 2.543h-4.811v-4.811c0.718 0.556 1.584 1.309 2.543 2.268zM28 29.5c0 0.271-0.229 0.5-0.5 0.5h-23c-0.271 0-0.5-0.229-0.5-0.5v-27c0-0.271 0.229-0.5 0.5-0.5 0 0 15.499-0 15.5 0v7c0 0.552 0.448 1 1 1h7v19.5z\"></path>\n",
       "<path d=\"M23 26h-14c-0.552 0-1-0.448-1-1s0.448-1 1-1h14c0.552 0 1 0.448 1 1s-0.448 1-1 1z\"></path>\n",
       "<path d=\"M23 22h-14c-0.552 0-1-0.448-1-1s0.448-1 1-1h14c0.552 0 1 0.448 1 1s-0.448 1-1 1z\"></path>\n",
       "<path d=\"M23 18h-14c-0.552 0-1-0.448-1-1s0.448-1 1-1h14c0.552 0 1 0.448 1 1s-0.448 1-1 1z\"></path>\n",
       "</symbol>\n",
       "</defs>\n",
       "</svg>\n",
       "<style>/* CSS stylesheet for displaying xarray objects in jupyterlab.\n",
       " *\n",
       " */\n",
       "\n",
       ":root {\n",
       "  --xr-font-color0: var(--jp-content-font-color0, rgba(0, 0, 0, 1));\n",
       "  --xr-font-color2: var(--jp-content-font-color2, rgba(0, 0, 0, 0.54));\n",
       "  --xr-font-color3: var(--jp-content-font-color3, rgba(0, 0, 0, 0.38));\n",
       "  --xr-border-color: var(--jp-border-color2, #e0e0e0);\n",
       "  --xr-disabled-color: var(--jp-layout-color3, #bdbdbd);\n",
       "  --xr-background-color: var(--jp-layout-color0, white);\n",
       "  --xr-background-color-row-even: var(--jp-layout-color1, white);\n",
       "  --xr-background-color-row-odd: var(--jp-layout-color2, #eeeeee);\n",
       "}\n",
       "\n",
       "html[theme=dark],\n",
       "body[data-theme=dark],\n",
       "body.vscode-dark {\n",
       "  --xr-font-color0: rgba(255, 255, 255, 1);\n",
       "  --xr-font-color2: rgba(255, 255, 255, 0.54);\n",
       "  --xr-font-color3: rgba(255, 255, 255, 0.38);\n",
       "  --xr-border-color: #1F1F1F;\n",
       "  --xr-disabled-color: #515151;\n",
       "  --xr-background-color: #111111;\n",
       "  --xr-background-color-row-even: #111111;\n",
       "  --xr-background-color-row-odd: #313131;\n",
       "}\n",
       "\n",
       ".xr-wrap {\n",
       "  display: block !important;\n",
       "  min-width: 300px;\n",
       "  max-width: 700px;\n",
       "}\n",
       "\n",
       ".xr-text-repr-fallback {\n",
       "  /* fallback to plain text repr when CSS is not injected (untrusted notebook) */\n",
       "  display: none;\n",
       "}\n",
       "\n",
       ".xr-header {\n",
       "  padding-top: 6px;\n",
       "  padding-bottom: 6px;\n",
       "  margin-bottom: 4px;\n",
       "  border-bottom: solid 1px var(--xr-border-color);\n",
       "}\n",
       "\n",
       ".xr-header > div,\n",
       ".xr-header > ul {\n",
       "  display: inline;\n",
       "  margin-top: 0;\n",
       "  margin-bottom: 0;\n",
       "}\n",
       "\n",
       ".xr-obj-type,\n",
       ".xr-array-name {\n",
       "  margin-left: 2px;\n",
       "  margin-right: 10px;\n",
       "}\n",
       "\n",
       ".xr-obj-type {\n",
       "  color: var(--xr-font-color2);\n",
       "}\n",
       "\n",
       ".xr-sections {\n",
       "  padding-left: 0 !important;\n",
       "  display: grid;\n",
       "  grid-template-columns: 150px auto auto 1fr 20px 20px;\n",
       "}\n",
       "\n",
       ".xr-section-item {\n",
       "  display: contents;\n",
       "}\n",
       "\n",
       ".xr-section-item input {\n",
       "  display: none;\n",
       "}\n",
       "\n",
       ".xr-section-item input + label {\n",
       "  color: var(--xr-disabled-color);\n",
       "}\n",
       "\n",
       ".xr-section-item input:enabled + label {\n",
       "  cursor: pointer;\n",
       "  color: var(--xr-font-color2);\n",
       "}\n",
       "\n",
       ".xr-section-item input:enabled + label:hover {\n",
       "  color: var(--xr-font-color0);\n",
       "}\n",
       "\n",
       ".xr-section-summary {\n",
       "  grid-column: 1;\n",
       "  color: var(--xr-font-color2);\n",
       "  font-weight: 500;\n",
       "}\n",
       "\n",
       ".xr-section-summary > span {\n",
       "  display: inline-block;\n",
       "  padding-left: 0.5em;\n",
       "}\n",
       "\n",
       ".xr-section-summary-in:disabled + label {\n",
       "  color: var(--xr-font-color2);\n",
       "}\n",
       "\n",
       ".xr-section-summary-in + label:before {\n",
       "  display: inline-block;\n",
       "  content: '►';\n",
       "  font-size: 11px;\n",
       "  width: 15px;\n",
       "  text-align: center;\n",
       "}\n",
       "\n",
       ".xr-section-summary-in:disabled + label:before {\n",
       "  color: var(--xr-disabled-color);\n",
       "}\n",
       "\n",
       ".xr-section-summary-in:checked + label:before {\n",
       "  content: '▼';\n",
       "}\n",
       "\n",
       ".xr-section-summary-in:checked + label > span {\n",
       "  display: none;\n",
       "}\n",
       "\n",
       ".xr-section-summary,\n",
       ".xr-section-inline-details {\n",
       "  padding-top: 4px;\n",
       "  padding-bottom: 4px;\n",
       "}\n",
       "\n",
       ".xr-section-inline-details {\n",
       "  grid-column: 2 / -1;\n",
       "}\n",
       "\n",
       ".xr-section-details {\n",
       "  display: none;\n",
       "  grid-column: 1 / -1;\n",
       "  margin-bottom: 5px;\n",
       "}\n",
       "\n",
       ".xr-section-summary-in:checked ~ .xr-section-details {\n",
       "  display: contents;\n",
       "}\n",
       "\n",
       ".xr-array-wrap {\n",
       "  grid-column: 1 / -1;\n",
       "  display: grid;\n",
       "  grid-template-columns: 20px auto;\n",
       "}\n",
       "\n",
       ".xr-array-wrap > label {\n",
       "  grid-column: 1;\n",
       "  vertical-align: top;\n",
       "}\n",
       "\n",
       ".xr-preview {\n",
       "  color: var(--xr-font-color3);\n",
       "}\n",
       "\n",
       ".xr-array-preview,\n",
       ".xr-array-data {\n",
       "  padding: 0 5px !important;\n",
       "  grid-column: 2;\n",
       "}\n",
       "\n",
       ".xr-array-data,\n",
       ".xr-array-in:checked ~ .xr-array-preview {\n",
       "  display: none;\n",
       "}\n",
       "\n",
       ".xr-array-in:checked ~ .xr-array-data,\n",
       ".xr-array-preview {\n",
       "  display: inline-block;\n",
       "}\n",
       "\n",
       ".xr-dim-list {\n",
       "  display: inline-block !important;\n",
       "  list-style: none;\n",
       "  padding: 0 !important;\n",
       "  margin: 0;\n",
       "}\n",
       "\n",
       ".xr-dim-list li {\n",
       "  display: inline-block;\n",
       "  padding: 0;\n",
       "  margin: 0;\n",
       "}\n",
       "\n",
       ".xr-dim-list:before {\n",
       "  content: '(';\n",
       "}\n",
       "\n",
       ".xr-dim-list:after {\n",
       "  content: ')';\n",
       "}\n",
       "\n",
       ".xr-dim-list li:not(:last-child):after {\n",
       "  content: ',';\n",
       "  padding-right: 5px;\n",
       "}\n",
       "\n",
       ".xr-has-index {\n",
       "  font-weight: bold;\n",
       "}\n",
       "\n",
       ".xr-var-list,\n",
       ".xr-var-item {\n",
       "  display: contents;\n",
       "}\n",
       "\n",
       ".xr-var-item > div,\n",
       ".xr-var-item label,\n",
       ".xr-var-item > .xr-var-name span {\n",
       "  background-color: var(--xr-background-color-row-even);\n",
       "  margin-bottom: 0;\n",
       "}\n",
       "\n",
       ".xr-var-item > .xr-var-name:hover span {\n",
       "  padding-right: 5px;\n",
       "}\n",
       "\n",
       ".xr-var-list > li:nth-child(odd) > div,\n",
       ".xr-var-list > li:nth-child(odd) > label,\n",
       ".xr-var-list > li:nth-child(odd) > .xr-var-name span {\n",
       "  background-color: var(--xr-background-color-row-odd);\n",
       "}\n",
       "\n",
       ".xr-var-name {\n",
       "  grid-column: 1;\n",
       "}\n",
       "\n",
       ".xr-var-dims {\n",
       "  grid-column: 2;\n",
       "}\n",
       "\n",
       ".xr-var-dtype {\n",
       "  grid-column: 3;\n",
       "  text-align: right;\n",
       "  color: var(--xr-font-color2);\n",
       "}\n",
       "\n",
       ".xr-var-preview {\n",
       "  grid-column: 4;\n",
       "}\n",
       "\n",
       ".xr-index-preview {\n",
       "  grid-column: 2 / 5;\n",
       "  color: var(--xr-font-color2);\n",
       "}\n",
       "\n",
       ".xr-var-name,\n",
       ".xr-var-dims,\n",
       ".xr-var-dtype,\n",
       ".xr-preview,\n",
       ".xr-attrs dt {\n",
       "  white-space: nowrap;\n",
       "  overflow: hidden;\n",
       "  text-overflow: ellipsis;\n",
       "  padding-right: 10px;\n",
       "}\n",
       "\n",
       ".xr-var-name:hover,\n",
       ".xr-var-dims:hover,\n",
       ".xr-var-dtype:hover,\n",
       ".xr-attrs dt:hover {\n",
       "  overflow: visible;\n",
       "  width: auto;\n",
       "  z-index: 1;\n",
       "}\n",
       "\n",
       ".xr-var-attrs,\n",
       ".xr-var-data,\n",
       ".xr-index-data {\n",
       "  display: none;\n",
       "  background-color: var(--xr-background-color) !important;\n",
       "  padding-bottom: 5px !important;\n",
       "}\n",
       "\n",
       ".xr-var-attrs-in:checked ~ .xr-var-attrs,\n",
       ".xr-var-data-in:checked ~ .xr-var-data,\n",
       ".xr-index-data-in:checked ~ .xr-index-data {\n",
       "  display: block;\n",
       "}\n",
       "\n",
       ".xr-var-data > table {\n",
       "  float: right;\n",
       "}\n",
       "\n",
       ".xr-var-name span,\n",
       ".xr-var-data,\n",
       ".xr-index-name div,\n",
       ".xr-index-data,\n",
       ".xr-attrs {\n",
       "  padding-left: 25px !important;\n",
       "}\n",
       "\n",
       ".xr-attrs,\n",
       ".xr-var-attrs,\n",
       ".xr-var-data,\n",
       ".xr-index-data {\n",
       "  grid-column: 1 / -1;\n",
       "}\n",
       "\n",
       "dl.xr-attrs {\n",
       "  padding: 0;\n",
       "  margin: 0;\n",
       "  display: grid;\n",
       "  grid-template-columns: 125px auto;\n",
       "}\n",
       "\n",
       ".xr-attrs dt,\n",
       ".xr-attrs dd {\n",
       "  padding: 0;\n",
       "  margin: 0;\n",
       "  float: left;\n",
       "  padding-right: 10px;\n",
       "  width: auto;\n",
       "}\n",
       "\n",
       ".xr-attrs dt {\n",
       "  font-weight: normal;\n",
       "  grid-column: 1;\n",
       "}\n",
       "\n",
       ".xr-attrs dt:hover span {\n",
       "  display: inline-block;\n",
       "  background: var(--xr-background-color);\n",
       "  padding-right: 10px;\n",
       "}\n",
       "\n",
       ".xr-attrs dd {\n",
       "  grid-column: 2;\n",
       "  white-space: pre-wrap;\n",
       "  word-break: break-all;\n",
       "}\n",
       "\n",
       ".xr-icon-database,\n",
       ".xr-icon-file-text2,\n",
       ".xr-no-icon {\n",
       "  display: inline-block;\n",
       "  vertical-align: middle;\n",
       "  width: 1em;\n",
       "  height: 1.5em !important;\n",
       "  stroke-width: 0;\n",
       "  stroke: currentColor;\n",
       "  fill: currentColor;\n",
       "}\n",
       "</style><pre class='xr-text-repr-fallback'>&lt;xarray.Dataset&gt;\n",
       "Dimensions:      (time: 731, yc: 432, xc: 432)\n",
       "Coordinates:\n",
       "  * time         (time) datetime64[ns] 2019-01-01 2019-01-02 ... 2020-12-31\n",
       "  * yc           (yc) float64 5.388e+06 5.362e+06 ... -5.362e+06 -5.388e+06\n",
       "  * xc           (xc) float64 -5.388e+06 -5.362e+06 ... 5.362e+06 5.388e+06\n",
       "Data variables:\n",
       "    siconca_abs  (time, yc, xc) float64 ...</pre><div class='xr-wrap' style='display:none'><div class='xr-header'><div class='xr-obj-type'>xarray.Dataset</div></div><ul class='xr-sections'><li class='xr-section-item'><input id='section-f4358ebe-c8ee-4905-8eec-58aa0dd4f9d3' class='xr-section-summary-in' type='checkbox' disabled ><label for='section-f4358ebe-c8ee-4905-8eec-58aa0dd4f9d3' class='xr-section-summary'  title='Expand/collapse section'>Dimensions:</label><div class='xr-section-inline-details'><ul class='xr-dim-list'><li><span class='xr-has-index'>time</span>: 731</li><li><span class='xr-has-index'>yc</span>: 432</li><li><span class='xr-has-index'>xc</span>: 432</li></ul></div><div class='xr-section-details'></div></li><li class='xr-section-item'><input id='section-3a80a145-9ed8-43d5-88e3-ff2ad3316d2b' class='xr-section-summary-in' type='checkbox'  checked><label for='section-3a80a145-9ed8-43d5-88e3-ff2ad3316d2b' class='xr-section-summary' >Coordinates: <span>(3)</span></label><div class='xr-section-inline-details'></div><div class='xr-section-details'><ul class='xr-var-list'><li class='xr-var-item'><div class='xr-var-name'><span class='xr-has-index'>time</span></div><div class='xr-var-dims'>(time)</div><div class='xr-var-dtype'>datetime64[ns]</div><div class='xr-var-preview xr-preview'>2019-01-01 ... 2020-12-31</div><input id='attrs-c5dc0c84-d42d-471e-8e5d-d2f90b2b9da6' class='xr-var-attrs-in' type='checkbox' disabled><label for='attrs-c5dc0c84-d42d-471e-8e5d-d2f90b2b9da6' title='Show/Hide attributes'><svg class='icon xr-icon-file-text2'><use xlink:href='#icon-file-text2'></use></svg></label><input id='data-eb082644-45d8-4be3-bbd5-c9d47ab009db' class='xr-var-data-in' type='checkbox'><label for='data-eb082644-45d8-4be3-bbd5-c9d47ab009db' title='Show/Hide data repr'><svg class='icon xr-icon-database'><use xlink:href='#icon-database'></use></svg></label><div class='xr-var-attrs'><dl class='xr-attrs'></dl></div><div class='xr-var-data'><pre>array([&#x27;2019-01-01T00:00:00.000000000&#x27;, &#x27;2019-01-02T00:00:00.000000000&#x27;,\n",
       "       &#x27;2019-01-03T00:00:00.000000000&#x27;, ..., &#x27;2020-12-29T00:00:00.000000000&#x27;,\n",
       "       &#x27;2020-12-30T00:00:00.000000000&#x27;, &#x27;2020-12-31T00:00:00.000000000&#x27;],\n",
       "      dtype=&#x27;datetime64[ns]&#x27;)</pre></div></li><li class='xr-var-item'><div class='xr-var-name'><span class='xr-has-index'>yc</span></div><div class='xr-var-dims'>(yc)</div><div class='xr-var-dtype'>float64</div><div class='xr-var-preview xr-preview'>5.388e+06 5.362e+06 ... -5.388e+06</div><input id='attrs-0873f68f-3eed-4647-a538-1b0479cd6645' class='xr-var-attrs-in' type='checkbox' ><label for='attrs-0873f68f-3eed-4647-a538-1b0479cd6645' title='Show/Hide attributes'><svg class='icon xr-icon-file-text2'><use xlink:href='#icon-file-text2'></use></svg></label><input id='data-6e52f0f7-9598-4f73-9de1-2e1ceffd7c5c' class='xr-var-data-in' type='checkbox'><label for='data-6e52f0f7-9598-4f73-9de1-2e1ceffd7c5c' title='Show/Hide data repr'><svg class='icon xr-icon-database'><use xlink:href='#icon-database'></use></svg></label><div class='xr-var-attrs'><dl class='xr-attrs'><dt><span>units :</span></dt><dd>meters</dd></dl></div><div class='xr-var-data'><pre>array([ 5387500.,  5362500.,  5337500., ..., -5337500., -5362500., -5387500.])</pre></div></li><li class='xr-var-item'><div class='xr-var-name'><span class='xr-has-index'>xc</span></div><div class='xr-var-dims'>(xc)</div><div class='xr-var-dtype'>float64</div><div class='xr-var-preview xr-preview'>-5.388e+06 -5.362e+06 ... 5.388e+06</div><input id='attrs-554dfe20-9899-492a-bb57-c6746ad0f64b' class='xr-var-attrs-in' type='checkbox' ><label for='attrs-554dfe20-9899-492a-bb57-c6746ad0f64b' title='Show/Hide attributes'><svg class='icon xr-icon-file-text2'><use xlink:href='#icon-file-text2'></use></svg></label><input id='data-2e3a3112-3ba5-45db-8daa-38474107df89' class='xr-var-data-in' type='checkbox'><label for='data-2e3a3112-3ba5-45db-8daa-38474107df89' title='Show/Hide data repr'><svg class='icon xr-icon-database'><use xlink:href='#icon-database'></use></svg></label><div class='xr-var-attrs'><dl class='xr-attrs'><dt><span>units :</span></dt><dd>meters</dd></dl></div><div class='xr-var-data'><pre>array([-5387500., -5362500., -5337500., ...,  5337500.,  5362500.,  5387500.])</pre></div></li></ul></div></li><li class='xr-section-item'><input id='section-4db53b6e-c8bb-4448-9426-3c183f7cba12' class='xr-section-summary-in' type='checkbox'  checked><label for='section-4db53b6e-c8bb-4448-9426-3c183f7cba12' class='xr-section-summary' >Data variables: <span>(1)</span></label><div class='xr-section-inline-details'></div><div class='xr-section-details'><ul class='xr-var-list'><li class='xr-var-item'><div class='xr-var-name'><span>siconca_abs</span></div><div class='xr-var-dims'>(time, yc, xc)</div><div class='xr-var-dtype'>float64</div><div class='xr-var-preview xr-preview'>...</div><input id='attrs-05147ba9-44b6-4425-87f0-9b0fa2f1bb3d' class='xr-var-attrs-in' type='checkbox' ><label for='attrs-05147ba9-44b6-4425-87f0-9b0fa2f1bb3d' title='Show/Hide attributes'><svg class='icon xr-icon-file-text2'><use xlink:href='#icon-file-text2'></use></svg></label><input id='data-e5bfad49-4db6-426f-8bf8-303bf9b8286e' class='xr-var-data-in' type='checkbox'><label for='data-e5bfad49-4db6-426f-8bf8-303bf9b8286e' title='Show/Hide data repr'><svg class='icon xr-icon-database'><use xlink:href='#icon-database'></use></svg></label><div class='xr-var-attrs'><dl class='xr-attrs'><dt><span>long_name :</span></dt><dd>fully filtered concentration of sea ice using atmospheric correction of brightness temperatures and open water filters</dd><dt><span>valid_max :</span></dt><dd>10000</dd><dt><span>ancillary_variables :</span></dt><dd>total_standard_error status_flag</dd><dt><span>standard_name :</span></dt><dd>sea_ice_area_fraction</dd><dt><span>comment :</span></dt><dd>this field is the primary sea ice concentration estimate for this climate data record</dd><dt><span>units :</span></dt><dd>%</dd><dt><span>grid_mapping :</span></dt><dd>Lambert_Azimuthal_Grid</dd><dt><span>valid_min :</span></dt><dd>0</dd></dl></div><div class='xr-var-data'><pre>[136422144 values with dtype=float64]</pre></div></li></ul></div></li><li class='xr-section-item'><input id='section-a9ac4bde-f49a-4df5-be24-a49938e7fb2e' class='xr-section-summary-in' type='checkbox'  ><label for='section-a9ac4bde-f49a-4df5-be24-a49938e7fb2e' class='xr-section-summary' >Indexes: <span>(3)</span></label><div class='xr-section-inline-details'></div><div class='xr-section-details'><ul class='xr-var-list'><li class='xr-var-item'><div class='xr-index-name'><div>time</div></div><div class='xr-index-preview'>PandasIndex</div><div></div><input id='index-2f3b4fc4-494e-4947-a044-089542f7d013' class='xr-index-data-in' type='checkbox'/><label for='index-2f3b4fc4-494e-4947-a044-089542f7d013' title='Show/Hide index repr'><svg class='icon xr-icon-database'><use xlink:href='#icon-database'></use></svg></label><div class='xr-index-data'><pre>PandasIndex(DatetimeIndex([&#x27;2019-01-01&#x27;, &#x27;2019-01-02&#x27;, &#x27;2019-01-03&#x27;, &#x27;2019-01-04&#x27;,\n",
       "               &#x27;2019-01-05&#x27;, &#x27;2019-01-06&#x27;, &#x27;2019-01-07&#x27;, &#x27;2019-01-08&#x27;,\n",
       "               &#x27;2019-01-09&#x27;, &#x27;2019-01-10&#x27;,\n",
       "               ...\n",
       "               &#x27;2020-12-22&#x27;, &#x27;2020-12-23&#x27;, &#x27;2020-12-24&#x27;, &#x27;2020-12-25&#x27;,\n",
       "               &#x27;2020-12-26&#x27;, &#x27;2020-12-27&#x27;, &#x27;2020-12-28&#x27;, &#x27;2020-12-29&#x27;,\n",
       "               &#x27;2020-12-30&#x27;, &#x27;2020-12-31&#x27;],\n",
       "              dtype=&#x27;datetime64[ns]&#x27;, name=&#x27;time&#x27;, length=731, freq=None))</pre></div></li><li class='xr-var-item'><div class='xr-index-name'><div>yc</div></div><div class='xr-index-preview'>PandasIndex</div><div></div><input id='index-a41cc7ed-3041-48d5-964d-852dfde917c5' class='xr-index-data-in' type='checkbox'/><label for='index-a41cc7ed-3041-48d5-964d-852dfde917c5' title='Show/Hide index repr'><svg class='icon xr-icon-database'><use xlink:href='#icon-database'></use></svg></label><div class='xr-index-data'><pre>PandasIndex(Index([ 5387500.0,  5362500.0,  5337500.0,  5312500.0,  5287500.0,  5262500.0,\n",
       "        5237500.0,  5212500.0,  5187500.0,  5162500.0,\n",
       "       ...\n",
       "       -5162500.0, -5187500.0, -5212500.0, -5237500.0, -5262500.0, -5287500.0,\n",
       "       -5312500.0, -5337500.0, -5362500.0, -5387500.0],\n",
       "      dtype=&#x27;float64&#x27;, name=&#x27;yc&#x27;, length=432))</pre></div></li><li class='xr-var-item'><div class='xr-index-name'><div>xc</div></div><div class='xr-index-preview'>PandasIndex</div><div></div><input id='index-9b281333-6928-408e-a85e-5ae55cb50c51' class='xr-index-data-in' type='checkbox'/><label for='index-9b281333-6928-408e-a85e-5ae55cb50c51' title='Show/Hide index repr'><svg class='icon xr-icon-database'><use xlink:href='#icon-database'></use></svg></label><div class='xr-index-data'><pre>PandasIndex(Index([-5387500.0, -5362500.0, -5337500.0, -5312500.0, -5287500.0, -5262500.0,\n",
       "       -5237500.0, -5212500.0, -5187500.0, -5162500.0,\n",
       "       ...\n",
       "        5162500.0,  5187500.0,  5212500.0,  5237500.0,  5262500.0,  5287500.0,\n",
       "        5312500.0,  5337500.0,  5362500.0,  5387500.0],\n",
       "      dtype=&#x27;float64&#x27;, name=&#x27;xc&#x27;, length=432))</pre></div></li></ul></div></li><li class='xr-section-item'><input id='section-4504c0bc-1e5d-4137-a388-3b19022c5e0b' class='xr-section-summary-in' type='checkbox' disabled ><label for='section-4504c0bc-1e5d-4137-a388-3b19022c5e0b' class='xr-section-summary'  title='Expand/collapse section'>Attributes: <span>(0)</span></label><div class='xr-section-inline-details'></div><div class='xr-section-details'><dl class='xr-attrs'></dl></div></li></ul></div></div>"
      ],
      "text/plain": [
       "<xarray.Dataset>\n",
       "Dimensions:      (time: 731, yc: 432, xc: 432)\n",
       "Coordinates:\n",
       "  * time         (time) datetime64[ns] 2019-01-01 2019-01-02 ... 2020-12-31\n",
       "  * yc           (yc) float64 5.388e+06 5.362e+06 ... -5.362e+06 -5.388e+06\n",
       "  * xc           (xc) float64 -5.388e+06 -5.362e+06 ... 5.362e+06 5.388e+06\n",
       "Data variables:\n",
       "    siconca_abs  (time, yc, xc) float64 ..."
      ]
     },
     "execution_count": 17,
     "metadata": {},
     "output_type": "execute_result"
    }
   ],
   "source": [
    "import xarray as xr\n",
    "xr.open_dataset(\"./processed/single_day/osisaf/south/siconca/siconca_abs.nc\")"
   ]
  },
  {
   "cell_type": "markdown",
   "metadata": {},
   "source": [
    "## n. Test Dataset with Dataloader"
   ]
  },
  {
   "cell_type": "code",
   "execution_count": 6,
   "metadata": {},
   "outputs": [],
   "source": [
    "from icenet.data.loaders import IceNetDataLoaderFactory\n",
    "\n",
    "implementation = \"dask\"\n",
    "loader_config = \"loader.single_day.json\"\n",
    "dataset_name = \"single_day\"\n",
    "lag = 1\n",
    "\n",
    "dl = IceNetDataLoaderFactory().create_data_loader(\n",
    "    implementation,\n",
    "    loader_config,\n",
    "    dataset_name,\n",
    "    lag,\n",
    "    n_forecast_days=1,\n",
    "    north=False,\n",
    "    south=True,\n",
    "    output_batch_size=1,\n",
    "    generate_workers=1\n",
    ")"
   ]
  },
  {
   "cell_type": "code",
   "execution_count": 7,
   "metadata": {},
   "outputs": [
    {
     "name": "stderr",
     "output_type": "stream",
     "text": [
      "/users/anddon76/micromamba/envs/icenet-3.11/lib/python3.11/site-packages/distributed/node.py:182: UserWarning: Port 8888 is already in use.\n",
      "Perhaps you already have a cluster running?\n",
      "Hosting the HTTP server on port 44005 instead\n",
      "  warnings.warn(\n",
      "INFO:distributed.scheduler:State start\n",
      "INFO:distributed.scheduler:  Scheduler at:     tcp://127.0.0.1:40790\n",
      "INFO:distributed.scheduler:  dashboard at:  http://127.0.0.1:44005/status\n",
      "INFO:distributed.scheduler:Registering Worker plugin shuffle\n",
      "INFO:distributed.nanny:        Start Nanny at: 'tcp://127.0.0.1:35195'\n"
     ]
    },
    {
     "name": "stderr",
     "output_type": "stream",
     "text": [
      "INFO:distributed.scheduler:Register worker <WorkerState 'tcp://127.0.0.1:36685', name: 0, status: init, memory: 0, processing: 0>\n",
      "INFO:distributed.scheduler:Starting worker compute stream, tcp://127.0.0.1:36685\n",
      "INFO:distributed.core:Starting established connection to tcp://127.0.0.1:39216\n",
      "INFO:distributed.scheduler:Receive client connection: Client-871ffa06-07c4-11ef-b1d8-c4cbe1af5a66\n",
      "INFO:distributed.core:Starting established connection to tcp://127.0.0.1:39218\n",
      "2024-05-01 15:10:14.351793: I tensorflow/core/util/port.cc:113] oneDNN custom operations are on. You may see slightly different numerical results due to floating-point round-off errors from different computation orders. To turn them off, set the environment variable `TF_ENABLE_ONEDNN_OPTS=0`.\n",
      "2024-05-01 15:10:14.437761: E external/local_xla/xla/stream_executor/cuda/cuda_dnn.cc:9261] Unable to register cuDNN factory: Attempting to register factory for plugin cuDNN when one has already been registered\n",
      "2024-05-01 15:10:14.437813: E external/local_xla/xla/stream_executor/cuda/cuda_fft.cc:607] Unable to register cuFFT factory: Attempting to register factory for plugin cuFFT when one has already been registered\n",
      "2024-05-01 15:10:14.439010: E external/local_xla/xla/stream_executor/cuda/cuda_blas.cc:1515] Unable to register cuBLAS factory: Attempting to register factory for plugin cuBLAS when one has already been registered\n",
      "2024-05-01 15:10:14.447618: I tensorflow/core/platform/cpu_feature_guard.cc:182] This TensorFlow binary is optimized to use available CPU instructions in performance-critical operations.\n",
      "To enable the following instructions: AVX2 AVX512F AVX512_VNNI FMA, in other operations, rebuild TensorFlow with the appropriate compiler flags.\n",
      "2024-05-01 15:10:16.201811: W tensorflow/compiler/tf2tensorrt/utils/py_utils.cc:38] TF-TRT Warning: Could not find TensorRT\n",
      "INFO:distributed.scheduler:Receive client connection: Client-worker-8a34f91c-07c4-11ef-a703-c4cbe1af5a66\n",
      "INFO:distributed.core:Starting established connection to tcp://127.0.0.1:39234\n",
      "/users/anddon76/micromamba/envs/icenet-3.11/lib/python3.11/site-packages/xarray/backends/plugins.py:80: RuntimeWarning: Engine 'cfgrib' loading failed:\n",
      "Cannot find the ecCodes library\n",
      "  warnings.warn(f\"Engine {name!r} loading failed:\\n{ex}\", RuntimeWarning)\n",
      "INFO:distributed.scheduler:Remove client Client-871ffa06-07c4-11ef-b1d8-c4cbe1af5a66\n",
      "INFO:distributed.core:Received 'close-stream' from tcp://127.0.0.1:39218; closing.\n",
      "INFO:distributed.scheduler:Remove client Client-871ffa06-07c4-11ef-b1d8-c4cbe1af5a66\n",
      "INFO:distributed.scheduler:Close client connection: Client-871ffa06-07c4-11ef-b1d8-c4cbe1af5a66\n"
     ]
    }
   ],
   "source": [
    "dl.generate()"
   ]
  },
  {
   "cell_type": "code",
   "execution_count": 8,
   "metadata": {},
   "outputs": [
    {
     "data": {
      "text/plain": [
       "((432, 432, 9), (432, 432, 1, 1), (432, 432, 1, 1))"
      ]
     },
     "execution_count": 8,
     "metadata": {},
     "output_type": "execute_result"
    }
   ],
   "source": [
    "x, y, sw = dl.generate_sample(pd.Timestamp(\"2020-01-01\"))\n",
    "x.shape, y.shape, sw.shape"
   ]
  },
  {
   "cell_type": "markdown",
   "metadata": {},
   "source": [
    "## n+1: Test PyTorch Dataset Implementation"
   ]
  },
  {
   "cell_type": "code",
   "execution_count": 13,
   "metadata": {},
   "outputs": [],
   "source": [
    "from utils import IceNetDataSetPyTorch\n",
    "implementation = \"dask\"\n",
    "dataset_config = \"dataset_config.single_year.json\"\n",
    "dataset_name = \"single_year\"\n",
    "lag = 1\n",
    "train_ds = IceNetDataSetPyTorch(dataset_config, \"train\", batch_size=4, shuffling=True)\n",
    "val_ds = IceNetDataSetPyTorch(dataset_config, \"val\", batch_size=4, shuffling=False)\n",
    "test_ds = IceNetDataSetPyTorch(dataset_config, \"test\", batch_size=4, shuffling=False)"
   ]
  },
  {
   "cell_type": "code",
   "execution_count": 14,
   "metadata": {},
   "outputs": [
    {
     "data": {
      "text/plain": [
       "(torch.Size([9, 432, 432]),\n",
       " torch.Size([30, 432, 432]),\n",
       " torch.Size([30, 432, 432]))"
      ]
     },
     "execution_count": 14,
     "metadata": {},
     "output_type": "execute_result"
    }
   ],
   "source": [
    "x, y, sw = train_ds[0]\n",
    "x.shape, y.shape, sw.shape"
   ]
  },
  {
   "cell_type": "code",
   "execution_count": 17,
   "metadata": {},
   "outputs": [
    {
     "data": {
      "image/png": "[encoded data removed]",
      "text/plain": [
       "<Figure size 640x480 with 2 Axes>"
      ]
     },
     "metadata": {},
     "output_type": "display_data"
    }
   ],
   "source": [
    "import matplotlib.pyplot as plt\n",
    "plt.imshow(y[0, :, :].detach().numpy())\n",
    "plt.colorbar()\n",
    "plt.show()"
   ]
  }
 ],
 "metadata": {
  "kernelspec": {
   "display_name": "Python 3",
   "language": "python",
   "name": "python3"
  },
  "language_info": {
   "codemirror_mode": {
    "name": "ipython",
    "version": 3
   },
   "file_extension": ".py",
   "mimetype": "text/x-python",
   "name": "python",
   "nbconvert_exporter": "python",
   "pygments_lexer": "ipython3",
   "version": "3.11.7"
  }
 },
 "nbformat": 4,
 "nbformat_minor": 2
}
