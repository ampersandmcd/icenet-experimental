{
 "cells": [
  {
   "cell_type": "markdown",
   "metadata": {},
   "source": [
    "## Obtain Google WeatherNext Forecasts\n",
    "From the following pages:\n",
    "* [About WeatherNext](https://deepmind.google/technologies/weathernext/#access-weathernext)\n",
    "* [WeatherNext Graph (GraphCast)](https://developers.google.com/earth-engine/datasets/catalog/projects_gcp-public-data-weathernext_assets_59572747_4_0)\n",
    "* [WeatherNext Gen (GenCast)](https://developers.google.com/earth-engine/datasets/catalog/projects_gcp-public-data-weathernext_assets_126478713_1_0)\n"
   ]
  }
 ],
 "metadata": {
  "language_info": {
   "name": "python"
  }
 },
 "nbformat": 4,
 "nbformat_minor": 2
}
