{
 "cells": [
  {
   "cell_type": "markdown",
   "metadata": {},
   "source": [
    "A notebook for miscellaneous file visualisation."
   ]
  },
  {
   "cell_type": "code",
   "execution_count": 4,
   "metadata": {},
   "outputs": [
    {
     "data": {
      "application/vnd.jupyter.widget-view+json": {
       "model_id": "ebc0285b8d3c4557bf222529ff4c8234",
       "version_major": 2,
       "version_minor": 0
      },
      "text/plain": [
       "BokehModel(combine_events=True, render_bundle={'docs_json': {'8726072f-a385-47c6-8781-3e53c26167b0': {'version…"
      ]
     },
     "execution_count": 4,
     "metadata": {},
     "output_type": "execute_result"
    }
   ],
   "source": [
    "import hvplot.xarray\n",
    "import xarray as xr\n",
    "da = xr.open_dataset(\"/data/hpcdata/users/jambyr/icenet/blue/processed/current_north/osisaf/north/siconca/siconca_abs.nc\")\n",
    "da.siconca_abs.hvplot(\n",
    "    groupby=\"time\",  # adds a widget for time\n",
    "    widget_type=\"scrubber\",\n",
    "    widget_location=\"bottom\",\n",
    "    aspect=\"equal\",\n",
    "    colormap=\"viridis\"\n",
    ")"
   ]
  },
  {
   "cell_type": "code",
   "execution_count": 6,
   "metadata": {},
   "outputs": [
    {
     "data": {
      "application/vnd.jupyter.widget-view+json": {
       "model_id": "d787fa514e0a4c26ab0e1b25b0f03833",
       "version_major": 2,
       "version_minor": 0
      },
      "text/plain": [
       "BokehModel(combine_events=True, render_bundle={'docs_json': {'933ef974-65c4-4094-b6c4-7e79ff7b73fd': {'version…"
      ]
     },
     "execution_count": 6,
     "metadata": {},
     "output_type": "execute_result"
    }
   ],
   "source": [
    "da = xr.open_dataset(\"/data/hpcdata/users/jambyr/icenet/blue/processed/current_north/oras5/north/thetao/thetao_anom.nc\")\n",
    "da.thetao_anom.hvplot(\n",
    "    groupby=\"time\",  # adds a widget for time\n",
    "    widget_type=\"scrubber\",\n",
    "    widget_location=\"bottom\",\n",
    "    aspect=\"equal\",\n",
    "    colormap=\"viridis\"\n",
    ")"
   ]
  }
 ],
 "metadata": {
  "kernelspec": {
   "display_name": "Python 3",
   "language": "python",
   "name": "python3"
  },
  "language_info": {
   "codemirror_mode": {
    "name": "ipython",
    "version": 3
   },
   "file_extension": ".py",
   "mimetype": "text/x-python",
   "name": "python",
   "nbconvert_exporter": "python",
   "pygments_lexer": "ipython3",
   "version": "3.11.7"
  }
 },
 "nbformat": 4,
 "nbformat_minor": 2
}
